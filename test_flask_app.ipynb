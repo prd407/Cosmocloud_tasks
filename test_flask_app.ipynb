{
 "cells": [
  {
   "cell_type": "code",
   "execution_count": 1,
   "metadata": {},
   "outputs": [],
   "source": [
    "import requests"
   ]
  },
  {
   "cell_type": "code",
   "execution_count": 31,
   "metadata": {},
   "outputs": [
    {
     "name": "stdout",
     "output_type": "stream",
     "text": [
      "{'success': 'User added', 'user': {'email': 'lucky@example.com', 'id': '64461480f4144551dcb5ef90', 'name': 'Lokendra Singh'}}\n"
     ]
    }
   ],
   "source": [
    "# Create a new user\n",
    "data = {\n",
    "    \"name\": \"Lokendra Singh\",\n",
    "    \"email\": \"lucky@example.com\"\n",
    "}\n",
    "response = requests.post('http://127.0.0.1:5000/users', json=data)\n",
    "print(response.json()) # prints the created user's details\n"
   ]
  },
  {
   "cell_type": "code",
   "execution_count": 32,
   "metadata": {},
   "outputs": [
    {
     "name": "stdout",
     "output_type": "stream",
     "text": [
      "{'total_count': 3, 'users': [{'email': 'pradeep@example.com', 'id': '644603d48b401905b0d38138', 'name': 'Pradeep Singh'}, {'email': 'lucky@example.com', 'id': '644605a68b401905b0d38139', 'name': 'Lokendra Singh'}, {'email': 'lucky@example.com', 'id': '64461480f4144551dcb5ef90', 'name': 'Lokendra Singh'}]}\n"
     ]
    }
   ],
   "source": [
    "# List all users (default limit 10)\n",
    "response = requests.get('http://127.0.0.1:5000/users')\n",
    "print(response.json()) # prints the list of all users"
   ]
  },
  {
   "cell_type": "code",
   "execution_count": 33,
   "metadata": {},
   "outputs": [
    {
     "name": "stdout",
     "output_type": "stream",
     "text": [
      "{'total_count': 2, 'users': [{'email': 'lucky@example.com', 'id': '644605a68b401905b0d38139', 'name': 'Lokendra Singh'}]}\n"
     ]
    }
   ],
   "source": [
    "# List all users with limit and offset\n",
    "response = requests.get('http://127.0.0.1:5000/users?limit=1&offset=1')\n",
    "print(response.json()) # prints the list of all users"
   ]
  },
  {
   "cell_type": "code",
   "execution_count": 34,
   "metadata": {},
   "outputs": [
    {
     "name": "stdout",
     "output_type": "stream",
     "text": [
      "{'email': 'lucky@example.com', 'id': '644605a68b401905b0d38139', 'name': 'Lokendra Singh'}\n"
     ]
    }
   ],
   "source": [
    "# Fetch a single user\n",
    "user_id = '644605a68b401905b0d38139'\n",
    "response = requests.get(f'http://127.0.0.1:5000/users/{user_id}')\n",
    "print(response.json()) # prints the requested user's details"
   ]
  },
  {
   "cell_type": "code",
   "execution_count": 20,
   "metadata": {},
   "outputs": [
    {
     "name": "stdout",
     "output_type": "stream",
     "text": [
      "{'id': '64460b61b46ce943dbab7189', 'name': 'my-organisation'}\n"
     ]
    }
   ],
   "source": [
    "# Create a new organisation\n",
    "data = {\n",
    "    \"name\": \"my-organisation\"\n",
    "}\n",
    "response = requests.post('http://127.0.0.1:5000/organisations', json=data)\n",
    "print(response.json()) # prints the created organisation's details\n"
   ]
  },
  {
   "cell_type": "code",
   "execution_count": 21,
   "metadata": {},
   "outputs": [
    {
     "name": "stdout",
     "output_type": "stream",
     "text": [
      "{'organisations': [{'id': '64460b61b46ce943dbab7189', 'name': 'my-organisation'}], 'total_count': 1}\n"
     ]
    }
   ],
   "source": [
    "# List an organisation\n",
    "response = requests.get('http://127.0.0.1:5000/organisations')\n",
    "print(response.json()) # prints the list of all organisations\n"
   ]
  },
  {
   "cell_type": "code",
   "execution_count": 35,
   "metadata": {},
   "outputs": [
    {
     "name": "stdout",
     "output_type": "stream",
     "text": [
      "{'permission': {'access_level': 'ADMIN', 'organisation_id': '64460b61b46ce943dbab7189', 'user_id': '644603d48b401905b0d38138'}, 'success': 'Permission added'}\n"
     ]
    }
   ],
   "source": [
    "# Create/update permissions for users on each organisation\n",
    "data = {\n",
    "    \"user_id\": \"644603d48b401905b0d38138\",\n",
    "    \"organisation_id\": '64460b61b46ce943dbab7189', \n",
    "    \"access_level\": \"ADMIN\"\n",
    "}\n",
    "\n",
    "response = requests.post('http://127.0.0.1:5000/permissions', json=data)\n",
    "print(response.json()) # prints the created/updated permission's details\n"
   ]
  },
  {
   "cell_type": "code",
   "execution_count": 36,
   "metadata": {},
   "outputs": [
    {
     "name": "stdout",
     "output_type": "stream",
     "text": [
      "{'error': 'Permission record not found'}\n"
     ]
    }
   ],
   "source": [
    "# Remove/delete permissions for users on each organisation\n",
    "\n",
    "data = {\n",
    "    \"user_id\": \"644605a68b401905b0d38139\",\n",
    "    \"organisation_id\": '64460b61b46ce943dbab7189', \n",
    "    \"access_level\": \"ADMIN\"\n",
    "}\n",
    "\n",
    "response = requests.delete('http://127.0.0.1:5000/permissions', json=data)\n",
    "\n",
    "print(response.json()) # prints the deleted permission's details\n"
   ]
  }
 ],
 "metadata": {
  "kernelspec": {
   "display_name": "Python 3",
   "language": "python",
   "name": "python3"
  },
  "language_info": {
   "codemirror_mode": {
    "name": "ipython",
    "version": 3
   },
   "file_extension": ".py",
   "mimetype": "text/x-python",
   "name": "python",
   "nbconvert_exporter": "python",
   "pygments_lexer": "ipython3",
   "version": "3.10.6"
  },
  "orig_nbformat": 4
 },
 "nbformat": 4,
 "nbformat_minor": 2
}
